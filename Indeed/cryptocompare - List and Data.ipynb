{
 "cells": [
  {
   "cell_type": "code",
   "execution_count": 1,
   "metadata": {
    "collapsed": true
   },
   "outputs": [],
   "source": [
    "from cryptocmd import CmcScraper\n"
   ]
  },
  {
   "cell_type": "code",
   "execution_count": 22,
   "metadata": {},
   "outputs": [],
   "source": [
    "import cryptocompare\n",
    "listcrypto = list(cryptocompare.get_coin_list(format=False).keys())\n"
   ]
  },
  {
   "cell_type": "code",
   "execution_count": 26,
   "metadata": {},
   "outputs": [
    {
     "data": {
      "text/plain": [
       "dict_keys(['LTC', 'XMR', 'NXT', 'DOGE', 'ZEC', 'BTS', 'CRAIG', 'XPY', 'PRC', 'YBC', 'DANK', 'GIVE', 'KOBO', 'DT', 'CETI', 'SUP', 'XPD', 'GEO', 'CHASH', 'SPR', 'NXTI', 'WOLF', 'XDP', '2015', '42', 'AC', 'ALF', 'AGS', 'AMC', 'ALN', 'ARI', 'AUR', 'AXR', 'BCX', 'BEN', 'BITB', 'BLU', 'BLK', 'BOST', 'BQC', 'XMY', 'MOON', 'ZET', 'ENRG', 'QRK', 'RIC', 'DGC', 'CAIX', 'BTG*', 'BUK', 'CACH', 'CANN', 'CAP', 'CASH', 'CBX', 'CCN', 'CINNI', 'CLAM', 'CLR', 'CMC', 'CNC', 'CNL', 'COMM', 'COOL', 'CRACK', 'CRYPT', 'EFL', 'EMC2', 'EXE', 'EZC', 'FC2', 'FFC', 'FIBRE', 'FRC', 'FLT', 'FRAC', 'FTC', 'GDC', 'GLC', 'GLX', 'GML', 'GUE', 'HAL', 'HBN', 'HVC', 'HYP', 'ICB', 'IOC', 'IXC', 'JKC', 'KDC', 'LAB*', 'LGD*', 'LK7', 'LSD', 'LTB', 'LTCX', 'LYC', 'MAX', 'MEC', 'MN', 'MNC', 'MRY', 'MYST*', 'NAN', 'NAUT', 'NAV', 'NBL', 'NEC', 'NMB', 'NOBL', 'NRS', 'NVC', 'NMC', 'NYAN', 'OPAL', 'ORB', 'OSC', 'PHS', 'POINTS', 'POT', 'PSEUD', 'PTS*', 'PXC', 'PYC', 'RDD', 'RIPO', 'RPC', 'RT2', 'RYC', 'RZR', 'SAT2', 'SFR', 'SHADE', 'SLG', 'SMC', 'SOLE', 'SPT', 'SRC', 'SSV', 'XLM', 'SUPER', 'SWIFT', 'SYNC', 'TAG', 'TAK', 'TGC', 'UNB', 'UNO', 'UTC', 'UTIL', 'VDO', 'VIA', 'WC', 'WDC', 'XC', 'XCR', 'XJO', 'XLB', 'XPM', 'YAC', 'ZCC', 'ZED', 'ZRC*', 'BCN', 'EKN', 'XAU', 'TMC', 'XEM', 'SJCX', 'HUGE', 'MAID', '007', 'NSR', 'MONA', 'CELL', 'TEK', 'BAY', 'XVC', 'CRAVE', 'XSI', 'GHS', 'BYC', 'GRC', 'GEMZ', 'HZ', 'FAIR', 'QORA', 'RBY', 'PTC', 'SSD', 'XTC', 'NOTE', 'FLO', '8BIT', 'STV', 'EBS', 'XMG', 'AMBER', 'JPC', 'NKT', 'J', 'GHC', 'DTC*', 'ABY', 'LDOGE', 'SWARM', 'BBR', 'BTCRY', 'XPB', 'XDQ', 'FLDC', 'SLR', 'SMAC', 'TRK', 'U', 'UIS', 'CYP', 'UFO', 'OC', 'GSM', 'FSC2', 'NXTTY', 'QBK', 'BLC', 'GIG', 'CC', 'BITS', 'LTBC', 'VTR', 'METAL', 'PINK', 'GRE', 'XG', 'CHILD', 'BOOM', 'MINE', 'ROS', 'SLM', 'GAIA', 'TRUST', 'FCN', 'XCN', 'CURE', 'MMC', 'OCTO', 'MSC', 'EGG', 'C2', 'CAM', 'RBR', 'XQN', 'ICASH', 'NODE', 'SOON', 'BTMI', 'EVENT', '1CR', 'XCO', 'VMC', 'MRS', 'EQM', 'ISL', 'XWT', 'XNA', 'RDN', 'SKB', 'FCS', 'GAM', 'NXS', 'CESC', 'TWLV', 'EAGS', 'MWC', 'ADC', 'XMS', 'SPHR', 'BTX*', 'DCC', 'M1', 'DB', 'CTO', 'EDGE', 'LUX*', 'FUTC', 'TAM', 'MRP', 'CREVA', 'XFC', 'NANAS', 'LOG', 'XCE', 'ACP', 'DRZ', 'BUCKS*', 'BSC', 'DRKT', 'NKA', 'VERSA', 'EPY', 'SQL', 'POLY', 'PIGGY', 'CHA', 'GEN', 'QTZ', 'ARB', 'LTS', 'SPC', 'DUB', 'GRAV', 'MCN', 'QCN', 'HEDG', 'SONG', 'XSEED', 'CRE', 'AXIOM', 'SMLY', 'RBT', 'CHIP', 'SPEC', 'GRAM', 'UNC', 'SPRTS', 'ZNY', 'BTQ', 'STR*', 'SNRG', 'GHOUL', 'HNC', 'DIGS', 'EXP', 'GCR', 'CON', 'NEU*', 'CLV', 'FCT', 'LYB', 'PXI', 'CPC', 'OBITS', 'CLUB', 'RADS', 'EMC', 'BLITZ', 'MND', 'I0C', 'BTA', 'DCR', 'NAS2', 'PAK', 'CRB', 'REP', 'OK', 'VOX', 'AMP', 'HODL', 'DGD', 'EDRC', 'LSK', 'HTC', 'GAME', 'DSH', 'DBIC', 'XHI', 'SPOTS', 'KNC*', 'DIEM', 'RCX', 'PWR', 'TRUMP', 'PRM', 'BCY', 'RBIES', 'STEEM', 'XWC', 'DOT', 'SCOT', 'BAC', 'XID*', 'GRT', 'TCR', 'POST', 'INFX', 'ETHS', 'NUM', 'SOUL', 'GROW', 'UNITY', 'NETC', 'GPU', 'TAGR', 'HMP', 'ADZ', 'GAP', 'MYC', 'IVZ', 'SLS', 'SOIL', 'CUBE', 'YOC', 'APC', 'STEPS', 'DBTC', 'UNIT', 'MOIN', 'ERC', 'AIB', 'PRIME', 'BERN', 'BIGUP', 'KR', 'XRE', '1337', 'XDB', 'MNM', 'ADCN', 'ZEIT', '611', '2GIVE', 'CGA', 'SWING', 'SAFEX', 'NEBU', 'AEC', 'FRN', 'ADN', 'PULSE', 'N7', 'CYG', 'LGBTQ', 'UTH', 'MPRO', '404', 'SPM', 'MOJO', 'BELA', 'FLX', 'BOLI', 'CLUD', 'FLY', 'HVCO', 'GREXIT', 'CARBON', 'DEUR', 'TUR', 'LEMON', 'STS', 'DISK', 'NEVA', 'CYT', 'FUZZ', 'XNX', 'STAR*', 'STHR', 'BON', 'WMC', 'GOTX', 'FLVR', 'SHREK', 'STA*', 'RISE', 'REV', 'PBC', 'OBS', 'EXIT', 'EDC', 'CKC', 'VIP', 'NXE', 'ZOOM', 'DRACO', 'YOVI', 'KUBO', 'INCP', 'SAK', 'EVIL', 'OMA', 'COX', 'BNT', 'DES', 'PDC', 'CHESS', 'SPACE', 'REE', 'LQD', 'MARV', 'XDE2', 'VEC2', 'OMNI', 'GSY', 'TKN*', 'LIR', 'MMNXT', 'SCRPT', 'LBC', 'SBD', 'CJ', 'PUT', 'KRAK', 'DLISK', 'STRAT', 'VOYA', 'ENTER', 'WGC', 'BM', 'PSY', 'XT', 'RUST', 'NZC', 'SNGLS', 'XAUR', 'BFX', 'UNIQ', 'CRX', 'XPOKE', 'MUDRA', 'WARP', 'CNMT', 'PIZZA', 'LC', 'HEAT', 'ICN', 'EXB', 'WINGS', 'RBIT', 'DCS.', 'KMD', 'GB', 'NEO', 'ANC', 'SYNX', 'MC', 'EDR', 'JWL', 'TAB', 'TRIG', 'BITCNY', 'BITUSD', 'STO', 'SNS', 'FSN', 'CTC', 'TOT', 'BTD', 'BOTS', 'MDC', 'FTP', 'ZET2', 'COV*', 'TELL', 'ENE', 'TDFB', 'BLOCKPAY', 'BXT', 'MST', 'GOON', '808', 'VLT', 'ZNE', 'COVAL', 'DGDC', 'TODAY', 'ROOT', '1ST', 'GPL', 'DOPE', 'FX', 'PIO', 'GAY', 'SMSR', 'UBIQ', 'ARM', 'RING', 'ERB', 'LAZ', 'FONZ', 'BTCR', 'DROP', 'SANDG', 'PNK', 'MOOND', 'DLC', 'SEN', 'SCN', 'WEX', 'LTH', 'BRONZ', 'SH', 'MG', 'PSI', 'NLC', 'PSB', 'XBTS', 'FIT', 'PINKX', 'UNF', 'SPORT', 'PPY', 'NTC', 'EGO', 'BTCL*', 'RCN*', 'X2', 'MT', 'TIA', 'XUP', 'HALLO', 'BBCC', 'EMIGR', 'BHC', 'CRAFT', 'INV', 'OLYMP', 'DPAY', 'ATOM', 'HKG', 'ANTC', 'JOBS', 'DGORE', 'TRA', 'RMS', 'VAPOR', 'SDP', 'RRT', 'PRE', 'CALC', 'LEA', 'CF', 'CRNK', 'CFC', 'VTY', 'SFE', 'ARDR', 'BS', 'JIF', 'CRAB', 'HILL', 'FOREX', 'MONETA', 'EC', 'RUBIT', 'HCC', 'BRAIN', 'VTX', 'KRC', 'ROYAL', 'LFC', 'ZUR', 'NUBIS', 'TENNET', 'PEC', 'GMX', '32BIT', 'GNJ', 'TEAM', 'SCT', 'LANA', 'ELE', 'GCC', 'AND', 'GBYTE', 'EQUAL', 'SWEET', '2BACCO', 'DKC', 'COC', 'CHOOF', 'RYCN', 'PCS', 'NBIT', 'WINE', 'ARK', 'IFLT', 'ZECD', 'ZXT', 'WASH', 'TESLA', 'LUCKY', 'VSL', 'TPG', 'LEO', 'CBD', 'PEX', 'INSANE', 'GNT', 'PEN', 'BASH', 'FAME', 'LIV', 'SP', 'MEGA', 'VRS', 'ALC', 'DOGETH', 'KLC', 'HUSH', 'BTLC', 'DRM8', 'FIST', 'EBZ', '365', 'DRS', 'FGZ', 'BOSON', 'ATX', 'PNC', 'BRDD', 'TIME', 'BIP', 'XNC', 'EMB', 'BTTF', 'DLR', 'CSMIC', 'FIRST', 'SCASH', 'XEN', 'JIO', 'IW', 'JNS', 'TRICK', 'DCRE', 'FRE', 'NPC', 'DGMS', 'ICOB', 'ARCO', 'KURT', 'XCRE', 'UR', 'MTLM3', 'ODNT', 'EUC', 'CCX', 'BCF', 'SEEDS', 'POSW', 'SHORTY', 'PCM', 'KC', 'CORAL', 'BamitCoin', 'NXC', 'MONEY', 'BSTAR', 'HSP', 'HZT', 'CS', 'XSP', 'BULLS', 'INCNT', 'ICON', 'NIC', 'ACN', 'XNG', 'XCI', 'LOOK', 'LOC', 'MMXVI', 'TRST', 'MIS', 'WOP', 'CQST', 'IMPS', 'IN', 'CHIEF', 'GOAT', 'ANAL', 'RC', 'PND', 'PX', 'CND*', 'OPTION', 'AV', 'LTD', 'UNITS', 'HEEL', 'GAKH', 'SHIFT', 'S8C', 'LVG', 'DRA', 'LTCR', 'QBC', 'XPRO', 'AST*', 'GIFT', 'VIDZ', 'INC', 'PTA', 'ACID', 'ZLQ', 'RADI', 'RNC', 'GOLOS', 'PASC', 'TWIST', 'PAYP', 'DETH', 'YAY', 'YES', 'LENIN', 'MRSA', 'OS76', 'BOSS', 'MKR', 'BIC', 'CRPS', 'MOTO', 'XNC*', 'HXX', 'SPKTR', 'MAC', 'SEL', 'NOO', 'CHAO', 'XGB', 'YMC', 'JOK', 'GBIT', 'TEC', 'BOMB', 'RIDE', 'KED', 'CNO', 'WEALTH', 'XSPEC', 'PEPECASH', 'CLICK', 'ELS', 'KUSH', 'ERY', 'PRES', 'BTZ', 'OPES', 'UBQ', 'RATIO', 'BAN', 'NICE', 'SMF', 'CWXT', 'TECH', 'CIR', 'LEPEN', 'ROUND', 'MARX', 'TAT', 'HAZE', 'PRX', 'NRC', 'IMPCH', 'ERR', 'TIC', 'NUKE', 'EOC', 'SFC', 'JANE', 'PARA', 'MM', 'BXC', 'NDOGE', 'ZBC', 'MLN', 'FRST', 'PAY', 'ORO', 'ALEX', 'TBCX', 'MCAR', 'THS', 'ACES', 'UAEC', 'EA', 'PIE', 'CREA', 'WISC', 'BVC', 'FIND', 'MLITE', 'STALIN', 'TSE', 'VLTC', 'BIOB', 'SWT', 'PASL', 'ZER', 'CDN', 'TPAY', 'NETKO', 'HONEY', 'MUSIC', 'DTB', 'VEG', 'MBIT', 'VOLT', 'MGO', 'EDG', 'B@', 'BEST', 'ZENI', 'PLANET', 'DUCK', 'BNX', 'BSTK', 'DBIX', 'KAYI', 'XVP', 'BOAT', 'TAJ', 'IMX', 'CJC', 'AMY', 'QBT', 'SRC*', 'EB3', 'XVE', 'FAZZ', 'APT', 'BLAZR', 'ARPA', 'BNB*', 'UNI', 'ECO', 'DARK', 'RLC', 'ATMS', 'INPAY', 'VISIO', 'GOT', 'CXT', 'EMPC', 'GNO', 'LGD', 'TAAS', 'BUCKS', 'GUP', 'MCRN', 'LUN', 'WSX', 'IEC', 'IMS', 'CNT', 'LMC', 'TKN', 'PROC', 'XGR', 'WRC*', 'HMQ', 'BCAP', 'DUO', 'GRW', 'APX', 'MILO', 'OLV', 'ILC', 'PZM', 'PHR', 'ANT', 'PUPA', 'RICE', 'XCT', 'DEA', 'RED', 'ZSE', 'CTIC', 'TAP', 'BITOK', 'MUU', 'INF8', 'MNE', 'DICE', 'SUB*', 'USC', 'DUX', 'XPS', 'EQT', 'INSN', 'BAT', 'MAT*', 'F16', 'HAMS', 'QTUM', 'NEF', 'BOS', 'QWARK', 'IOT', 'QRL', 'ADL', 'PTOY', 'LKK', 'ESP', 'MAD', 'DYN', 'SEQ', 'MCAP', 'MYST', 'VERI', 'SNM', 'SKY', 'CFI', 'SNT', 'AVT', 'CVC', 'IXT', 'DENT', 'BQX', 'STA', 'TFL', 'MCO', 'NMR', 'ADX', 'QAU', 'ECOB', 'PLBT', 'USDT', 'AHT', 'ATB', 'TIX', 'CMP', 'RVT', 'HRB', 'NET*', '8BT', 'CDT', 'DNT', 'SUR', 'MIV', 'BET*', 'SAN', 'KIN', 'XEL', 'NVST', 'FUN', 'FUNC', 'PQT', 'WTT', 'MTL', 'MYB', 'PPT', 'SNC', 'STAR', 'COR', 'XRL', 'OROC', 'OAX', 'GGS', 'DNA', 'FYN', 'DCY', 'CFT', 'DNR', 'VUC', 'BTPL', 'UNIFY', 'IPC', 'BRIT', 'AMMO', 'SOCC', 'MASS', 'IML', 'XUC', 'GUNS', 'IFT', 'CAT*', 'SYC', 'IND', 'TRIBE', 'ZRX', 'TNT', 'PRE*', 'COSS', 'STORM', 'STORJ', 'OMG', 'OTX', 'EQB', 'VOISE', 'ETBS', 'CVCOIN', 'DRP', 'BOG', 'NDC', 'POE', 'ADT', 'AE', 'UET', 'PART', 'AGRS', 'SAND', 'DAS', 'ADST', 'CAT', 'XCJ', 'RKC', 'NLC2', 'LINDA', 'ANCP', 'RCC', 'SNK', 'CABS', 'OPT', 'ZNT', 'BITSD', 'XLC', 'SKIN', 'MSP', 'HIRE', 'BBT*', 'REAL', 'DFBT', 'EQ', 'WLK', 'VIB', 'ONION', 'BTX', 'ICE', 'XID', 'ATOM*', 'ICOO', 'TME', 'SMART', 'SIGT', 'ONX', 'ARENA', 'WINK', 'BCH', 'DGPT', 'CSNO', 'KICK', 'SDAO', 'STX', 'BNB', 'KCN', 'QVT', 'TIE', 'AUT', 'CTT', 'MTH', 'CCC', 'UMC', 'BMXT', 'GAS', 'FIL', 'OCL', 'BNC', 'TOM', 'BTM*', 'XAS', 'DLT', 'MRV', 'MBRS', 'SUB', 'MET', 'NEBL', 'PGL', 'AUTH', 'CASH*', 'DTCT', 'CTR', 'PRG', 'THNX', 'WORM', 'FUCK', 'VNT', 'SIFT', 'IWT', 'JDC', 'ITT', 'EVX', 'ICOS', 'PIX', 'MEDI', 'HGT', 'LTA', 'NIMFA', 'SCOR', 'MLS', 'KEX', 'COB', 'ATL', 'ARI*', 'MAG*', 'DFT', 'VEN', 'LAT', 'SOJ', 'HDG', 'STCN', 'SQP', 'RIYA', 'LNK', 'AMB', 'WAN', 'MNT', 'CFT*', 'BLX', 'BOU', 'OXY', 'AMT', 'NYC', 'LBTC', 'FRAZ', 'EMT', 'GXC', 'HBT', 'KRONE', 'SRT', 'AVA', 'ACC', 'Z2', 'LINX', 'GOOD', 'TRV', 'CRTM', 'EON', 'PST', 'ENJ', 'CNX', 'DRC', 'FUEL', 'ACE', 'UCASH', 'WRT', 'ORME', 'DEEP', 'TMT', 'CCT*', 'WSH', 'ARNA*', 'ABC', 'PRP', 'BMC', 'SKR*', '3DES', 'PYN', 'KAPU', 'FC', 'RCN', 'NRN', 'EVC', 'LINK', 'EDO', 'ATKN', 'KNC', 'RUSTBITS', 'REX', 'ETHD', 'TRX', 'H2O', 'TKT', 'RHEA', 'ART', 'DRT', 'SNOV', 'DTT', 'STOCKBET', 'PLM', 'SALT', 'SND', 'LRC', 'ZNA', 'EZM', 'ODN', 'POLL', 'MTK', 'GJC', 'WIC', 'WEB', 'WAND', 'ELIX', 'HAC', 'ADA', 'YOYOW', 'REC', 'BIS', 'OPP', 'ROCK', 'ICX', 'WISH*', 'FLASH', 'BTCZ', 'CZC', 'PPP', 'GUESS', 'ETP', 'CIX', 'BAC*', 'FLIK', 'TRIP', 'MBT', 'JVY', 'ALIS', 'LEV', 'ARBI', 'ELT', 'REQ', 'ARN', 'DAT', 'VIBE', 'ROK', 'XRED', 'DAY', 'AST', 'FLP', 'HXT', 'CND', 'VRP*', 'NTM', 'TZC', 'ENG', 'MCI', 'WAX', 'AIR', 'NTO', 'ATCC', 'WILD', 'ELTC2', 'ILCT', 'POWR', 'GXC*', 'TER', 'XCS', 'BQ', 'PTC*', 'WABI', 'EVR', 'TOA', 'MNZ', 'RPX', 'MDA', 'ZSC', 'AURS', 'PKT', 'INXT', 'ATS', 'RGC', 'EBET', 'R', 'MOD', 'BON*', 'WHL', 'ETG', 'WOMEN', 'MAY', 'RNDR', 'EDDIE', 'SCT*', 'KCS', 'BLUE', 'FLLW', 'WYR', 'VZT', 'INDI', 'ECASH', 'DRGN', 'ODMC', 'CABS*', 'DTR', 'TKR', 'ELITE', 'XIOS', 'DOVU', 'ETN', 'AVE', 'XNN', 'LOAN*', 'ZAB', 'MDL', 'BT1', 'BT2', 'JCR', 'XSB', 'KEK', 'BHC*', 'ALTCOM', 'DATA', 'DTC', 'PLAY', 'CLD', 'OTN', 'POS', 'NEOG', 'EXN', 'TRCT', 'UKG', 'BTCRED', 'EBCH', 'JPC*', 'AXT', 'RDN*', 'NEU', 'RUPX', 'DUTCH', 'HNC*', 'HST', 'BCPT', 'BDL', 'XBL', 'ZEPH', 'NULS', 'LCASH', 'CFD', 'DBET', 'NEWB', 'CREDO', 'MSR', 'ESC*', 'BNK', 'ELLA', 'ROCK*', 'DRXNE', 'SKR', 'GRID', 'XPTX', 'GVT', 'ASTRO', 'GMT', 'EPY*', 'SOAR', 'HOLD', 'MNX', 'CRDS', 'VIU', 'DBR', 'ABT', 'QSP', 'RIPT', 'BBT', 'CSTL', 'ICC', 'QASH', 'KNC**', 'TRIA', 'PBL', 'UFR', 'LAB', 'FLIXX', 'FRD', 'PFR', 'ECA', 'LDM', 'LTG', 'SPANK', 'WISH', 'AERM', 'PLX', 'NIO', 'ETHB', 'UQC', 'LEND', 'TIO*', 'XSH', 'BCD*', 'BCO*', 'ONG', 'PRL', 'BTCM', 'ETBT', 'ZCG', 'MUT', 'AION', 'MEOW', 'DIVX', 'CNBC', 'RHOC', 'ARC*', 'XUN', 'RFL', 'GRX', 'ERO', 'CMT*', 'RLX', 'MAN', 'ACT*', 'NRO', 'COAL', 'DAXX', 'XMRG', 'BTCE', 'FYP', 'BOXY', 'EGAS', 'DPP', 'TGT', 'BMT', 'BTCL', 'PCN', 'RBTC', 'CRED', 'KLK', 'AC3', 'GTO', 'TNB', 'CHIPS*', 'HKN', 'B2B', 'LOC*', 'ITNS', 'SMT*', 'GER', 'LTCU', 'EMGO', 'BTCA', 'ETF', 'BCX*', 'LUX**', 'STAK', 'BCOIN', 'BNTY', 'DBC', 'POP', 'BAS', 'UTT', 'HBC', 'AMM', 'DAV', 'ERC20', 'ITC', 'PHO', 'SMART*', 'GNX', 'NAS', 'BTH', 'EREAL', 'CPN', 'BTSE', 'OMGC', 'Q2C', 'SPF', 'FLS', 'GUN', 'DFS', 'GRS', 'HQX', 'CL', 'BRD', 'RMC', 'AEON', 'AUA', 'ELF', 'TSL', 'IRL', 'APPC', 'XBY', 'TROLL', 'SGR', 'EVN', 'NTK', 'JET', 'MDS', 'LCP', 'GTC', 'IETH', 'NTWK', 'GCC*', 'SDRN', 'HAT', 'INS', 'MONK', 'JINN', 'SET', 'BRC', 'HTML', 'LIFE', 'CRC*', 'ETL', 'BRC*', 'CDX', 'CDX*', 'ZAP', 'AIDOC', 'ZEN*', 'TDS', 'ECC', 'XRP', 'SYS', 'HIVE', 'XTRA', 'LCT', 'MNT*', 'STN', 'INT', 'B3', 'KBR', 'PCOIN', 'BLN', 'STU', 'SETH', 'BLAS', 'DIME', 'GLD', 'BRAT', 'CAG', 'XTZ', 'EKO', 'ATM*', 'ARCT', 'TEL', 'AURA', 'CBT', 'XBP', 'EXRN', 'IMV', 'BFT', 'DGB', 'LGO', 'AGI', 'ZEN', 'SGL', 'GRF*', 'DTA', 'KRB', 'OCN', 'THETA', 'CV', 'IOST', 'TCT', 'BPT', 'TRAC', 'MOT', 'HORSE', 'QUN', 'ACC*', 'MDT', 'MDT*', 'BTO', 'MTRC', 'IPL', 'SENT', 'SWFTC', 'AIX', 'SHA', 'UGC', 'PYLNT', 'GTC*', 'YEE', 'ZIL', 'FNT', 'SHP', 'ZCL', 'GX', 'PKB', 'QLC', 'SRN', 'BCD', 'ASAFE2', 'SBTC', 'BTW', 'AIR*', 'PRIX', 'PRO', 'BTCS', 'CMS', 'CPAY', 'CMT', 'BSTY', 'FJC', 'CPC*', 'WIZ', 'CAV', 'GIM', 'REF', 'SXDT', 'VTC', 'SXUT', 'FAIR*', 'VAL', 'MAN*', 'BCDN', 'IBANK', 'CAB', 'PLNC', 'BAR', 'COFI', 'PRPS', 'KEY', 'LOCI', 'GAT', 'PXS', 'STP', 'UP', 'CAN', 'DUBI', 'HVN', 'CAS', 'ETC', 'PLR', 'CLOAK', 'IOP', 'ETK', 'XST', 'ENTRP', 'BDG', 'SPHTX', 'BKX', 'COV', 'EVE', 'AXP', 'X8X', 'DMT', 'EGC', 'C20', 'FOTA', 'CTX', 'GET', 'AID', 'DCN', 'FOOD', 'MAT', 'DDF', 'DEM', 'GRWI', 'ELM', 'IDH', 'OST', 'CLOUT', 'ERT', 'BTCD', 'URO', 'HPB', 'XIN*', 'IGNIS', 'CYDER', 'AMIS', 'REA', 'SAF', 'GFT', 'DNN', 'DTX', 'POLY*', 'XTO', 'RUFF', 'ELA', 'STK', 'CXO', 'WRC', 'DIM', 'SIB', 'BLT', 'PHR*', 'MUE', 'NEOS', 'BSD', 'VEE', 'ELTCOIN', 'PURE', 'GRLC', 'UTK', 'XRB', 'CROAT', 'EBST', '300', 'SC', 'XRA', 'ARG', 'BTM', 'EAC', 'LHC', 'SISA', 'EBIT', 'TPAY*', 'TNC', 'BRK', 'BRX', 'BLZ', 'START', 'XGOX', 'CUZ', 'EMD', 'WTC', 'WSC', 'TRI', 'ATM', 'ATFS', 'HTML5', 'GCN', 'ACT', 'FND', 'XAI*', 'SMNX', 'SENSE', '8S', 'GLA', 'BTG', 'WAVES', 'SCR', 'BM*', 'WBTC', 'eFIC', 'DOC*', 'VRC', 'HALAL', 'VRM', 'MCT', 'CWIS', 'PPC', 'MBC', 'ACOIN', 'AERO', 'APEX', 'ARCH', 'BET', 'QTL', 'LIMX', 'BTB', 'BTE', 'CIN', 'CXC', 'DRKC', 'DSB', 'DVC', 'ELC', 'FLAP', 'FST', 'GLYPH', 'HUC', 'IFC', 'JBS', 'JUDGE', 'KEY*', 'KGC', 'LKY', 'LTCD', 'LXC', 'MED', 'MIN', 'NET', 'NRB', 'SBC', 'SDC', 'SHLD', 'SILK', 'TIT', 'TOR', 'TTC', 'ULTC', 'USDE', 'VOOT', 'XAI', 'XBOT', 'XBS', 'XCASH', 'XXX', 'BURST', 'TRON', 'SLING', 'KTK', 'WBB', 'GRID*', 'MMXIV', 'AM', 'MTR', 'BCR', 'ASN', 'MARYJ', 'OMC', 'HYPER', 'UNAT', 'GMC', 'CYC', 'GSX', 'VIOR', 'VIRAL', 'QSLV', 'SIGU', 'GLOBE', 'CIRC', 'MIL', 'XPH', 'GRM', 'BITZ', 'BOB', 'MAPC', 'MI', 'BST', 'HIRE*', 'KARMA', 'DOGED', 'BIOS', 'GBT', 'SAR', 'DNET', 'PXL', 'OLDSF', 'SSTC', 'VTA', 'COIN*', 'ANTI', 'KAT', 'GIZ', 'SCRT', 'DBG', 'CLINT', 'ORLY', 'BIT16', 'WAY', 'DCK', 'XPO', 'FIRE', 'GBRC', 'CSH', 'NTCC', 'MAR', 'DON', 'RAIN', 'ARGUS', 'BENJI', 'ECC*', 'BT', 'NAMO', 'BPL', 'VOT', 'JNT', 'CHSB', 'ZRC', 'FRWC', 'LCK', 'MRT', 'IOU', 'EBC', 'TKY', 'MTN*', 'LA', 'PARETO', 'PIVX', 'XZC', 'BLOCK', 'ION', 'PURA', 'CRW', 'COLX', 'GBX', 'NTRN', 'XLR', 'POLIS', 'CRC', 'TX', 'ALQO', 'KORE', 'KZC', 'BWK', 'BTDX', 'INN', 'CRAVE*', 'VSX', 'SEND', 'ORE', 'CHC', 'SPK', 'TRC', 'VIVO', 'MXT', 'GNR', 'CMPCO', 'PIRL', 'SAGA', 'XFT', 'FOR', 'DP', 'ROOTS', 'PHILS', 'DSR', 'CRM', 'GOA', 'RNS', 'BRO', 'SCORE', 'ARC', 'XCPO', 'XCXT', 'ENT', 'MDC*', 'SUCR', 'PNX', 'ITZ', 'ACCO', 'MGN', 'AMS', 'SUMO', 'XP', 'DMD', 'MUN', 'TIG', 'ING', 'DXT', 'CRL', 'REM', 'BCA', 'PBT', 'DAR', 'WCT', 'MER', 'WGO', 'ETT', 'WBTC*', 'PING', 'WGR', 'MBI', 'AHT*', 'SPN', 'KING', 'COE', 'CORE', 'WNET', 'MNY', 'MINEX', 'KOLION', 'RYZ', 'BDR', 'TKS', 'ALTOCAR', 'ETH', 'BEE', 'MOBI', 'ADB', 'USX', 'RUP', 'FSN*', 'RBX', 'CWV', 'MTN', 'ARY', 'EXCL', 'FRK', 'GP', 'BLRY', 'EFYT', 'CHAT', 'BUN', 'NKC', 'TRDT', 'STAC', 'JEW', 'CWX', 'JC', 'MZX', 'EDT', 'NBT', 'MTX', 'SKC', 'XBTY', 'FLOT', 'MINT', 'XBC', 'HPC', 'BCCOIN', 'THC', 'GLT', 'MARS', 'XCP', 'HSR', 'PAC', 'SHND', 'XDN', 'TIO', 'DCT', 'BUZZ', 'LUX', '888', 'MZC', 'MEME', 'TAU', 'BIO', 'NMS', 'CAT1', 'OPC', 'TOK', 'ZPT', 'PLC', 'CRDNC', 'ET4', 'XVG', 'JIO*', 'TTT', 'INK', 'WELL', 'NEC*', 'WPR', 'XCD', 'DTC**', 'DRPU', 'DADI', 'GXS', 'BBP', 'HLC', 'MED*', 'BOT', 'QBT*', 'XDCE', 'ECHT', 'KRM', 'CDY', 'SSS', 'DDD', 'BIFI', 'BTCP', 'BTF', 'IPC*', 'RCT', 'SHOW', 'STC', 'AIT', 'DTT*', 'STQ', 'VVI', 'TEN', 'BETR', 'CRPT', 'LWF', 'DEB', 'PYP', 'GMR', 'ALT', 'TRF', 'KB3', 'LCC', 'NYX', 'MWAT', 'ZYD', 'DASH', 'PTR', 'EBTC', 'FLIP', 'NLG', 'UTN', 'SGN', 'ILT', 'LYK', 'IQB', 'BANCA', 'ENK', 'SHPING', 'EARTH', 'VPRC', 'DHT', 'WCG', 'XMCC', 'CRC**', 'NBR', 'HLP', 'Q1S', 'EQL', 'VULC', 'MAG', 'SPA', 'UNRC', 'TOKC', 'SXC', 'HYS', 'LCWP', 'BCR*', 'SPC*', 'GOOD*', 'DTH', 'SOC', 'TDX', 'CLN', 'MLT', 'VST', 'REN', 'BAX', 'CFTY', 'ABT*', 'CSC', 'WT', 'SPX', 'BASHC', 'DIGIF', 'NIHL', 'CBS', 'REBL', 'redBUX', 'DRG', 'SPICE', 'FDX', 'ALX', 'STEX', 'LYM', 'NPX', 'LNC', 'BERRY', 'AUC', 'CPY', 'EXY', 'DTRC', 'NVT', 'CLIN', 'LIZ', 'AR*', 'DAI', 'PMA', 'NCASH', 'CIF', 'MANA', 'TRTL', 'CMCT', 'CARE', 'FSBT', 'EQUI', 'HGS', 'MCU', 'PUT*', 'SAT', 'SPD', 'VANY', 'POA', 'LOT', 'LEAF', 'COMP', 'FUNK', 'SCL', 'TES', 'BTC', 'VIN', 'HBZ', 'SRNT', 'SVD', 'SPX*', 'LDC*', 'NBX', 'CCOS', 'LUC', 'HION', 'GEA', 'GES', 'PROOF', 'GAI', 'CHAN', 'HHEM', 'MFG', 'DNO', 'BITCAR', 'SMT**', 'ONL', 'GENE', 'SPEND', 'MNTS', 'CRE*', 'TFD', 'CAPP', 'GRO', 'ORI', 'ZOI', 'SFU', 'CJT', 'ADBL', 'EOS', 'VLR', 'DRC*', 'HT', 'BIX', 'RFR', 'KREDS', 'DGM', 'XYO', 'BTCH', 'CCRB', 'PLU', 'JOY', 'REPUX', 'FILL', 'FUND', 'NGC', 'CEDEX', 'ABYSS', 'UBTC'])"
      ]
     },
     "execution_count": 26,
     "metadata": {},
     "output_type": "execute_result"
    }
   ],
   "source": [
    "cryptocompare.get_coin_list(format=False).keys()"
   ]
  },
  {
   "cell_type": "code",
   "execution_count": 25,
   "metadata": {},
   "outputs": [
    {
     "name": "stdout",
     "output_type": "stream",
     "text": [
      "XMR\n"
     ]
    },
    {
     "data": {
      "text/html": [
       "<div>\n",
       "<style>\n",
       "    .dataframe thead tr:only-child th {\n",
       "        text-align: right;\n",
       "    }\n",
       "\n",
       "    .dataframe thead th {\n",
       "        text-align: left;\n",
       "    }\n",
       "\n",
       "    .dataframe tbody tr th {\n",
       "        vertical-align: top;\n",
       "    }\n",
       "</style>\n",
       "<table border=\"1\" class=\"dataframe\">\n",
       "  <thead>\n",
       "    <tr style=\"text-align: right;\">\n",
       "      <th></th>\n",
       "      <th>Date</th>\n",
       "      <th>Open</th>\n",
       "      <th>High</th>\n",
       "      <th>Low</th>\n",
       "      <th>Close</th>\n",
       "      <th>Volume</th>\n",
       "      <th>Market Cap</th>\n",
       "    </tr>\n",
       "  </thead>\n",
       "  <tbody>\n",
       "    <tr>\n",
       "      <th>1377</th>\n",
       "      <td>2014-05-25</td>\n",
       "      <td>4.04</td>\n",
       "      <td>4.04</td>\n",
       "      <td>2.80</td>\n",
       "      <td>3.14</td>\n",
       "      <td>283545</td>\n",
       "      <td>3774890</td>\n",
       "    </tr>\n",
       "    <tr>\n",
       "      <th>1378</th>\n",
       "      <td>2014-05-24</td>\n",
       "      <td>2.92</td>\n",
       "      <td>4.01</td>\n",
       "      <td>2.62</td>\n",
       "      <td>3.70</td>\n",
       "      <td>248028</td>\n",
       "      <td>2653720</td>\n",
       "    </tr>\n",
       "    <tr>\n",
       "      <th>1379</th>\n",
       "      <td>2014-05-23</td>\n",
       "      <td>2.05</td>\n",
       "      <td>3.43</td>\n",
       "      <td>2.05</td>\n",
       "      <td>2.96</td>\n",
       "      <td>266852</td>\n",
       "      <td>1816200</td>\n",
       "    </tr>\n",
       "    <tr>\n",
       "      <th>1380</th>\n",
       "      <td>2014-05-22</td>\n",
       "      <td>1.59</td>\n",
       "      <td>2.19</td>\n",
       "      <td>1.36</td>\n",
       "      <td>2.10</td>\n",
       "      <td>132918</td>\n",
       "      <td>1371470</td>\n",
       "    </tr>\n",
       "    <tr>\n",
       "      <th>1381</th>\n",
       "      <td>2014-05-21</td>\n",
       "      <td>2.47</td>\n",
       "      <td>2.65</td>\n",
       "      <td>1.23</td>\n",
       "      <td>1.60</td>\n",
       "      <td>246540</td>\n",
       "      <td>2079640</td>\n",
       "    </tr>\n",
       "  </tbody>\n",
       "</table>\n",
       "</div>"
      ],
      "text/plain": [
       "           Date  Open  High   Low  Close  Volume  Market Cap\n",
       "1377 2014-05-25  4.04  4.04  2.80   3.14  283545     3774890\n",
       "1378 2014-05-24  2.92  4.01  2.62   3.70  248028     2653720\n",
       "1379 2014-05-23  2.05  3.43  2.05   2.96  266852     1816200\n",
       "1380 2014-05-22  1.59  2.19  1.36   2.10  132918     1371470\n",
       "1381 2014-05-21  2.47  2.65  1.23   1.60  246540     2079640"
      ]
     },
     "execution_count": 25,
     "metadata": {},
     "output_type": "execute_result"
    }
   ],
   "source": [
    "print (listcrypto[1])\n",
    "scraper = CmcScraper(listcrypto[1])#, '02-02-2018', '01-03-2018')\n",
    "\n",
    "# get data as list of list\n",
    "headers, data = scraper.get_data()\n",
    "\n",
    "# export the data to csv\n",
    "#scraper.export_csv()\n",
    "\n",
    "# get dataframe for the data\n",
    "df = scraper.get_dataframe()\n",
    "df.tail()"
   ]
  },
  {
   "cell_type": "code",
   "execution_count": 13,
   "metadata": {},
   "outputs": [
    {
     "data": {
      "text/plain": [
       "{'BTC': {'EUR': 9023.53}}"
      ]
     },
     "execution_count": 13,
     "metadata": {},
     "output_type": "execute_result"
    }
   ],
   "source": [
    "cryptocompare.get_price('BTC')\n"
   ]
  },
  {
   "cell_type": "code",
   "execution_count": 15,
   "metadata": {},
   "outputs": [
    {
     "data": {
      "text/plain": [
       "{'DISPLAY': {'BTC': {'USD': {'CHANGE24HOUR': '$ -373.30',\n",
       "    'CHANGEDAY': '$ -311.16',\n",
       "    'CHANGEPCT24HOUR': '-3.24',\n",
       "    'CHANGEPCTDAY': '-2.71',\n",
       "    'FROMSYMBOL': 'Ƀ',\n",
       "    'HIGH24HOUR': '$ 11,536.5',\n",
       "    'HIGHDAY': '$ 11,469.3',\n",
       "    'LASTMARKET': 'Bitfinex',\n",
       "    'LASTTRADEID': '205855953',\n",
       "    'LASTUPDATE': 'Just now',\n",
       "    'LASTVOLUME': 'Ƀ 0.01795',\n",
       "    'LASTVOLUMETO': '$ 200.00',\n",
       "    'LOW24HOUR': '$ 11,077.0',\n",
       "    'LOWDAY': '$ 11,084.0',\n",
       "    'MARKET': 'CryptoCompare Index',\n",
       "    'MKTCAP': '$ 188.50 B',\n",
       "    'OPEN24HOUR': '$ 11,527.5',\n",
       "    'OPENDAY': '$ 11,465.4',\n",
       "    'PRICE': '$ 11,154.2',\n",
       "    'SUPPLY': 'Ƀ 16,899,812.0',\n",
       "    'TOSYMBOL': '$',\n",
       "    'TOTALVOLUME24H': 'Ƀ 315.48 K',\n",
       "    'TOTALVOLUME24HTO': '$ 3,527.08 M',\n",
       "    'VOLUME24HOUR': 'Ƀ 53,306.9',\n",
       "    'VOLUME24HOURTO': '$ 602,767,020.7',\n",
       "    'VOLUMEDAY': 'Ƀ 37,125.8',\n",
       "    'VOLUMEDAYTO': '$ 417,833,358.0'}}},\n",
       " 'RAW': {'BTC': {'USD': {'CHANGE24HOUR': -373.2999999999993,\n",
       "    'CHANGEDAY': -311.15999999999985,\n",
       "    'CHANGEPCT24HOUR': -3.238343092604635,\n",
       "    'CHANGEPCTDAY': -2.713913911120103,\n",
       "    'FLAGS': '2',\n",
       "    'FROMSYMBOL': 'BTC',\n",
       "    'HIGH24HOUR': 11536.5,\n",
       "    'HIGHDAY': 11469.27,\n",
       "    'LASTMARKET': 'Bitfinex',\n",
       "    'LASTTRADEID': '205855953',\n",
       "    'LASTUPDATE': 1520184262,\n",
       "    'LASTVOLUME': 0.01795493,\n",
       "    'LASTVOLUMETO': 199.99996527000002,\n",
       "    'LOW24HOUR': 11077,\n",
       "    'LOWDAY': 11084.01,\n",
       "    'MARKET': 'CCCAGG',\n",
       "    'MKTCAP': 188503883010.40002,\n",
       "    'OPEN24HOUR': 11527.5,\n",
       "    'OPENDAY': 11465.36,\n",
       "    'PRICE': 11154.2,\n",
       "    'SUPPLY': 16899812,\n",
       "    'TOSYMBOL': 'USD',\n",
       "    'TOTALVOLUME24H': 315478.0568058983,\n",
       "    'TOTALVOLUME24HTO': 3527076872.465105,\n",
       "    'TYPE': '5',\n",
       "    'VOLUME24HOUR': 53306.8700065638,\n",
       "    'VOLUME24HOURTO': 602767020.6679677,\n",
       "    'VOLUMEDAY': 37125.8115992667,\n",
       "    'VOLUMEDAYTO': 417833357.97417396}}}}"
      ]
     },
     "execution_count": 15,
     "metadata": {},
     "output_type": "execute_result"
    }
   ],
   "source": [
    "cryptocompare.get_price('BTC',curr='USD',full=True)\n"
   ]
  },
  {
   "cell_type": "code",
   "execution_count": 16,
   "metadata": {},
   "outputs": [
    {
     "data": {
      "text/plain": [
       "{'XMR': {'EUR': 285.57}}"
      ]
     },
     "execution_count": 16,
     "metadata": {},
     "output_type": "execute_result"
    }
   ],
   "source": [
    "cryptocompare.get_historical_price('XMR')"
   ]
  },
  {
   "cell_type": "code",
   "execution_count": null,
   "metadata": {
    "collapsed": true
   },
   "outputs": [],
   "source": []
  }
 ],
 "metadata": {
  "kernelspec": {
   "display_name": "Python 3",
   "language": "python",
   "name": "python3"
  },
  "language_info": {
   "codemirror_mode": {
    "name": "ipython",
    "version": 3
   },
   "file_extension": ".py",
   "mimetype": "text/x-python",
   "name": "python",
   "nbconvert_exporter": "python",
   "pygments_lexer": "ipython3",
   "version": "3.6.1"
  }
 },
 "nbformat": 4,
 "nbformat_minor": 2
}
