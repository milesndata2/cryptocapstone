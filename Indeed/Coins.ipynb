{
 "cells": [
  {
   "cell_type": "code",
   "execution_count": 11,
   "metadata": {},
   "outputs": [],
   "source": [
    "import coinmarketcap\n",
    "from coinmarketcap import Market\n",
    "coinmarketcap = Market()\n"
   ]
  },
  {
   "cell_type": "code",
   "execution_count": 13,
   "metadata": {},
   "outputs": [
    {
     "data": {
      "text/plain": [
       "[{'24h_volume_usd': '5686480000.0',\n",
       "  'available_supply': '16899725.0',\n",
       "  'cached': False,\n",
       "  'id': 'bitcoin',\n",
       "  'last_updated': '1520181265',\n",
       "  'market_cap_usd': '189334379065',\n",
       "  'max_supply': '21000000.0',\n",
       "  'name': 'Bitcoin',\n",
       "  'percent_change_1h': '0.34',\n",
       "  'percent_change_24h': '-2.48',\n",
       "  'percent_change_7d': '16.78',\n",
       "  'price_btc': '1.0',\n",
       "  'price_usd': '11203.4',\n",
       "  'rank': '1',\n",
       "  'symbol': 'BTC',\n",
       "  'total_supply': '16899725.0'},\n",
       " {'24h_volume_usd': '1623690000.0',\n",
       "  'available_supply': '97980827.0',\n",
       "  'cached': False,\n",
       "  'id': 'ethereum',\n",
       "  'last_updated': '1520181550',\n",
       "  'market_cap_usd': '84391963760.0',\n",
       "  'max_supply': None,\n",
       "  'name': 'Ethereum',\n",
       "  'percent_change_1h': '0.78',\n",
       "  'percent_change_24h': '-0.15',\n",
       "  'percent_change_7d': '2.98',\n",
       "  'price_btc': '0.0771597',\n",
       "  'price_usd': '861.311',\n",
       "  'rank': '2',\n",
       "  'symbol': 'ETH',\n",
       "  'total_supply': '97980827.0'},\n",
       " {'24h_volume_usd': '303916000.0',\n",
       "  'available_supply': '39091956706.0',\n",
       "  'cached': False,\n",
       "  'id': 'ripple',\n",
       "  'last_updated': '1520181541',\n",
       "  'market_cap_usd': '36077145913.0',\n",
       "  'max_supply': '100000000000',\n",
       "  'name': 'Ripple',\n",
       "  'percent_change_1h': '0.44',\n",
       "  'percent_change_24h': '1.5',\n",
       "  'percent_change_7d': '-1.28',\n",
       "  'price_btc': '0.00008268',\n",
       "  'price_usd': '0.922879',\n",
       "  'rank': '3',\n",
       "  'symbol': 'XRP',\n",
       "  'total_supply': '99992520283.0'}]"
      ]
     },
     "execution_count": 13,
     "metadata": {},
     "output_type": "execute_result"
    }
   ],
   "source": [
    "coinmarketcap.ticker(start=0, limit=3, convert='USD')\n"
   ]
  },
  {
   "cell_type": "code",
   "execution_count": 36,
   "metadata": {},
   "outputs": [
    {
     "data": {
      "text/plain": [
       "'11203.4'"
      ]
     },
     "execution_count": 36,
     "metadata": {},
     "output_type": "execute_result"
    }
   ],
   "source": [
    "dictcrypto = coinmarketcap.ticker('bitcoin', convert='EUR')[0] #.price_usd #.price_usd\n",
    "#import json\n",
    "#json1_data = json.loads(dictcrypto)\n",
    "dictcrypto[\"price_usd\"]"
   ]
  },
  {
   "cell_type": "code",
   "execution_count": null,
   "metadata": {
    "collapsed": true
   },
   "outputs": [],
   "source": []
  }
 ],
 "metadata": {
  "kernelspec": {
   "display_name": "Python 3",
   "language": "python",
   "name": "python3"
  },
  "language_info": {
   "codemirror_mode": {
    "name": "ipython",
    "version": 3
   },
   "file_extension": ".py",
   "mimetype": "text/x-python",
   "name": "python",
   "nbconvert_exporter": "python",
   "pygments_lexer": "ipython3",
   "version": "3.6.1"
  }
 },
 "nbformat": 4,
 "nbformat_minor": 2
}
